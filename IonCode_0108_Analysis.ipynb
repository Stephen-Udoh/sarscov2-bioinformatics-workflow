{
 "cells": [
  {
   "cell_type": "markdown",
   "id": "d790fdc8-63e5-4592-913b-d976df10cc91",
   "metadata": {},
   "source": [
    "# Post Sequencing Analysis - From BAM Files To Consensus FASTA, NextClade Clade and Lineage Analysis\n",
    "\n",
    "## Bioinformatics Analysis Pipeline/Workflow For Next Generation Sequencing (NGS) Data\n",
    "---\n",
    "**By Udoh Stephen Nsikak** \\\n",
    "BSc. Biochemistry, MPH-Epidemiology(in progress), M.Sc. Molecular Biology (In View) \\\n",
    "Research Assistant @ Molecular Genetics and Infectious Diseases Research Laboratory (MOGID_RL)\n",
    "\n",
    "---\n",
    "**Sample Identification Code: IonCode_108_Seq**\n",
    "\n",
    "---"
   ]
  },
  {
   "cell_type": "markdown",
   "id": "d72c964d-8e4e-4a61-abcd-a970f4756c3c",
   "metadata": {},
   "source": [
    "## Step 1. QC - Tool (fastqc)"
   ]
  },
  {
   "cell_type": "code",
   "execution_count": 1,
   "id": "9b49eb4f-a6f5-4d96-b120-aee0fb8e545e",
   "metadata": {},
   "outputs": [],
   "source": [
    "# create a folder to store qc result: html file\n",
    "!mkdir -p fastqc_results"
   ]
  },
  {
   "cell_type": "code",
   "execution_count": 2,
   "id": "f04df70e-2e4c-4173-a472-6bdad56f292a",
   "metadata": {},
   "outputs": [
    {
     "name": "stdout",
     "output_type": "stream",
     "text": [
      "Started analysis of IonCode_0108_Seq.bam\n",
      "Approx 5% complete for IonCode_0108_Seq.bam\n",
      "Approx 10% complete for IonCode_0108_Seq.bam\n",
      "Approx 15% complete for IonCode_0108_Seq.bam\n",
      "Approx 20% complete for IonCode_0108_Seq.bam\n",
      "Approx 25% complete for IonCode_0108_Seq.bam\n",
      "Approx 30% complete for IonCode_0108_Seq.bam\n",
      "Approx 35% complete for IonCode_0108_Seq.bam\n",
      "Approx 40% complete for IonCode_0108_Seq.bam\n",
      "Approx 45% complete for IonCode_0108_Seq.bam\n",
      "Approx 50% complete for IonCode_0108_Seq.bam\n",
      "Approx 55% complete for IonCode_0108_Seq.bam\n",
      "Approx 60% complete for IonCode_0108_Seq.bam\n",
      "Approx 65% complete for IonCode_0108_Seq.bam\n",
      "Approx 70% complete for IonCode_0108_Seq.bam\n",
      "Approx 75% complete for IonCode_0108_Seq.bam\n",
      "Approx 80% complete for IonCode_0108_Seq.bam\n",
      "Approx 85% complete for IonCode_0108_Seq.bam\n",
      "Approx 90% complete for IonCode_0108_Seq.bam\n",
      "Approx 95% complete for IonCode_0108_Seq.bam\n",
      "Approx 100% complete for IonCode_0108_Seq.bam\n",
      "Analysis complete for IonCode_0108_Seq.bam\n"
     ]
    }
   ],
   "source": [
    "#run the command to check sequence quality using fastqc\n",
    "!fastqc IonCode_0108_Seq.bam -o fastqc_results/"
   ]
  },
  {
   "cell_type": "code",
   "execution_count": 2,
   "id": "ef82c693-3cc1-42eb-9f59-53173f2a2fa9",
   "metadata": {},
   "outputs": [
    {
     "data": {
      "text/html": [
       "\n",
       "        <iframe\n",
       "            width=\"1000\"\n",
       "            height=\"600\"\n",
       "            src=\"fastqc_results/IonCode_0108_Seq_fastqc.html\"\n",
       "            frameborder=\"0\"\n",
       "            allowfullscreen\n",
       "            \n",
       "        ></iframe>\n",
       "        "
      ],
      "text/plain": [
       "<IPython.lib.display.IFrame at 0x7fbe69b95340>"
      ]
     },
     "execution_count": 2,
     "metadata": {},
     "output_type": "execute_result"
    }
   ],
   "source": [
    "# visualize fastqc results\n",
    "from IPython.display import IFrame\n",
    "\n",
    "IFrame(\"fastqc_results/IonCode_0108_Seq_fastqc.html\", width=1000, height=600)"
   ]
  },
  {
   "cell_type": "code",
   "execution_count": 3,
   "id": "d5a478ef-2685-4740-b347-3fb6b433377a",
   "metadata": {},
   "outputs": [
    {
     "name": "stdout",
     "output_type": "stream",
     "text": [
      "7056161 + 0 in total (QC-passed reads + QC-failed reads)\n",
      "7056161 + 0 primary\n",
      "0 + 0 secondary\n",
      "0 + 0 supplementary\n",
      "0 + 0 duplicates\n",
      "0 + 0 primary duplicates\n",
      "7046837 + 0 mapped (99.87% : N/A)\n",
      "7046837 + 0 primary mapped (99.87% : N/A)\n",
      "0 + 0 paired in sequencing\n",
      "0 + 0 read1\n",
      "0 + 0 read2\n",
      "0 + 0 properly paired (N/A : N/A)\n",
      "0 + 0 with itself and mate mapped\n",
      "0 + 0 singletons (N/A : N/A)\n",
      "0 + 0 with mate mapped to a different chr\n",
      "0 + 0 with mate mapped to a different chr (mapQ>=5)\n"
     ]
    }
   ],
   "source": [
    "# check flagstat using samtools\n",
    "!samtools flagstat IonCode_0108_Seq.bam"
   ]
  },
  {
   "cell_type": "markdown",
   "id": "d0330e22-ac01-4059-9d45-3e1043459990",
   "metadata": {},
   "source": [
    "## QC Visualizations for Details"
   ]
  },
  {
   "cell_type": "code",
   "execution_count": 1,
   "id": "89017b80-5c06-4b20-9816-533df4fea442",
   "metadata": {},
   "outputs": [],
   "source": [
    "import os\n",
    "import pandas as pd\n",
    "import pysam\n",
    "import matplotlib.pyplot as plt\n",
    "from IPython.display import display, HTML"
   ]
  },
  {
   "cell_type": "code",
   "execution_count": 2,
   "id": "406b7c24-1fd9-44c9-8a30-637a59a81de3",
   "metadata": {},
   "outputs": [],
   "source": [
    "# --------------------------\n",
    "# 1️⃣ Extract read data from BAM\n",
    "# --------------------------\n",
    "def extract_bam_data(bam_path, mapq_threshold=20):\n",
    "    records = []\n",
    "    bam = pysam.AlignmentFile(bam_path, \"rb\")\n",
    "    for read in bam.fetch(until_eof=True):\n",
    "        if not read.is_unmapped:\n",
    "            passes_filter = read.mapping_quality >= mapq_threshold\n",
    "            records.append({\n",
    "                'length': read.query_length,\n",
    "                'mapq': read.mapping_quality,\n",
    "                'passes_filtering': passes_filter\n",
    "            })\n",
    "    bam.close()\n",
    "    return pd.DataFrame(records) if records else pd.DataFrame()"
   ]
  },
  {
   "cell_type": "code",
   "execution_count": 3,
   "id": "8ddb1048-a238-4342-b1da-4f90c3a85ea8",
   "metadata": {},
   "outputs": [],
   "source": [
    "# 2️⃣ Generate QC plots\n",
    "# --------------------------\n",
    "def plot_qc(seq_summary, bam_file, pass_reads, fail_reads):\n",
    "    fig, axes = plt.subplots(1, 3, figsize=(15, 4))\n",
    "\n",
    "    # Pass/Fail bar plot\n",
    "    axes[0].bar(['Pass', 'Fail'], [pass_reads, fail_reads], color=['#54B8B1', '#EF4135'])\n",
    "    axes[0].set_ylabel(\"Read count\")\n",
    "    axes[0].set_title(f\"{bam_file} - Pass/Fail Reads\")\n",
    "\n",
    "    # Read length histogram\n",
    "    axes[1].hist(seq_summary['length'], bins=50, color='skyblue', edgecolor='black')\n",
    "    axes[1].set_xlabel(\"Read length (bp)\")\n",
    "    axes[1].set_ylabel(\"Count\")\n",
    "    axes[1].set_title(\"Read Length Distribution\")\n",
    "\n",
    "    # Mapping quality histogram\n",
    "    axes[2].hist(seq_summary['mapq'], bins=50, color='orange', edgecolor='black')\n",
    "    axes[2].set_xlabel(\"Mapping Quality (MAPQ)\")\n",
    "    axes[2].set_ylabel(\"Count\")\n",
    "    axes[2].set_title(\"Mapping Quality Distribution\")\n",
    "\n",
    "    plt.tight_layout()\n",
    "    plt.show()"
   ]
  },
  {
   "cell_type": "code",
   "execution_count": 4,
   "id": "e4d78821-ea6e-4750-b93b-6c1c3be0c93a",
   "metadata": {},
   "outputs": [],
   "source": [
    "# --------------------------\n",
    "# 3️⃣ Process a single BAM file\n",
    "# --------------------------\n",
    "def process_bam_file(bam_path, mapq_threshold=20):\n",
    "    seq_summary = extract_bam_data(bam_path, mapq_threshold)\n",
    "\n",
    "    if seq_summary.empty:\n",
    "        print(f\"⚠ No mapped reads found in {os.path.basename(bam_path)}\")\n",
    "        return None\n",
    "\n",
    "    total_reads = len(seq_summary)\n",
    "    pass_reads = seq_summary['passes_filtering'].sum()\n",
    "    fail_reads = total_reads - pass_reads\n",
    "    pass_pct = 100 * pass_reads / total_reads\n",
    "\n",
    "    # Show plots inline\n",
    "    plot_qc(seq_summary, os.path.basename(bam_path), pass_reads, fail_reads)\n",
    "\n",
    "    return {\n",
    "        'Sample': os.path.basename(bam_path),\n",
    "        'Total Reads': total_reads,\n",
    "        'Pass Reads': pass_reads,\n",
    "        'Fail Reads': fail_reads,\n",
    "        'Pass %': round(pass_pct, 2),\n",
    "        'Mean Read Length': round(seq_summary['length'].mean(), 1),\n",
    "        'Median Read Length': round(seq_summary['length'].median(), 1),\n",
    "        'Mean MAPQ': round(seq_summary['mapq'].mean(), 2)\n",
    "    }\n"
   ]
  },
  {
   "cell_type": "code",
   "execution_count": 5,
   "id": "0bc12fd2-4862-4abf-96d2-031c572dcd4d",
   "metadata": {},
   "outputs": [],
   "source": [
    "# --------------------------\n",
    "# 🔹 Process a single BAM file\n",
    "# --------------------------\n",
    "def qc_single_bam(bam_file, mapq_threshold=20):\n",
    "    print(f\"Processing {os.path.basename(bam_file)}...\")\n",
    "    result = process_bam_file(bam_file, mapq_threshold)\n",
    "\n",
    "    if result:\n",
    "        summary_df = pd.DataFrame([result])  # wrap result in list\n",
    "        display(HTML(summary_df.to_html(index=False)))\n",
    "    else:\n",
    "        print(\"No result returned.\")"
   ]
  },
  {
   "cell_type": "code",
   "execution_count": 6,
   "id": "7958ed39-ec9f-4cc2-9914-3462d0c041d6",
   "metadata": {},
   "outputs": [
    {
     "name": "stdout",
     "output_type": "stream",
     "text": [
      "Processing IonCode_0108_Seq.bam...\n"
     ]
    },
    {
     "data": {
      "image/png": "[encoded data removed]",
      "text/plain": [
       "<Figure size 1500x400 with 3 Axes>"
      ]
     },
     "metadata": {},
     "output_type": "display_data"
    },
    {
     "data": {
      "text/html": [
       "<table border=\"1\" class=\"dataframe\">\n",
       "  <thead>\n",
       "    <tr style=\"text-align: right;\">\n",
       "      <th>Sample</th>\n",
       "      <th>Total Reads</th>\n",
       "      <th>Pass Reads</th>\n",
       "      <th>Fail Reads</th>\n",
       "      <th>Pass %</th>\n",
       "      <th>Mean Read Length</th>\n",
       "      <th>Median Read Length</th>\n",
       "      <th>Mean MAPQ</th>\n",
       "    </tr>\n",
       "  </thead>\n",
       "  <tbody>\n",
       "    <tr>\n",
       "      <td>IonCode_0108_Seq.bam</td>\n",
       "      <td>7046837</td>\n",
       "      <td>6875954</td>\n",
       "      <td>170883</td>\n",
       "      <td>97.58</td>\n",
       "      <td>200.0</td>\n",
       "      <td>216.0</td>\n",
       "      <td>87.7</td>\n",
       "    </tr>\n",
       "  </tbody>\n",
       "</table>"
      ],
      "text/plain": [
       "<IPython.core.display.HTML object>"
      ]
     },
     "metadata": {},
     "output_type": "display_data"
    }
   ],
   "source": [
    "qc_single_bam(\"IonCode_0108_Seq.bam\", mapq_threshold=20)"
   ]
  },
  {
   "cell_type": "markdown",
   "id": "f5588b4f-5b5e-4230-8b88-0264423c423e",
   "metadata": {},
   "source": [
    "## Bam File Operations "
   ]
  },
  {
   "cell_type": "code",
   "execution_count": 7,
   "id": "ae9b9b30-0df7-47ec-881c-917edb463884",
   "metadata": {},
   "outputs": [],
   "source": [
    "# index bam file using samtools\n",
    "\n",
    "!samtools index IonCode_0108_Seq.bam"
   ]
  },
  {
   "cell_type": "code",
   "execution_count": 8,
   "id": "2d28ff6d-eb59-4b56-bea4-70d4c9f2fc7f",
   "metadata": {},
   "outputs": [
    {
     "name": "stdout",
     "output_type": "stream",
     "text": [
      "[bam_sort_core] merging from 11 files and 1 in-memory blocks...\n"
     ]
    }
   ],
   "source": [
    "# sort bam file\n",
    "\n",
    "!samtools sort -o sorted.IonCode_0108_Seq.bam IonCode_0108_Seq.bam"
   ]
  },
  {
   "cell_type": "markdown",
   "id": "f71aaf01-8f1f-423c-932c-053f8c786926",
   "metadata": {},
   "source": [
    "## Visualizing Read Coverage Using Mosdepth"
   ]
  },
  {
   "cell_type": "code",
   "execution_count": 4,
   "id": "87b30397-7627-4745-bab3-e4cc874469a4",
   "metadata": {},
   "outputs": [],
   "source": [
    "import os\n",
    "import subprocess\n",
    "import pandas as pd\n",
    "import matplotlib.pyplot as plt\n",
    "\n",
    "def coverage_plot(bam_file, output_prefix=\"coverage_output\", window=500):\n",
    "    \"\"\"\n",
    "    Run mosdepth on a BAM file and plot coverage.\n",
    "    \n",
    "    Parameters:\n",
    "        bam_file (str): Path to the BAM file.\n",
    "        output_prefix (str): Prefix for mosdepth output files.\n",
    "        window (int): Window size for coverage calculation.\n",
    "    \"\"\"\n",
    "    \n",
    "    # Run mosdepth\n",
    "    subprocess.run([\n",
    "        \"mosdepth\", \"-n\", \"--fast-mode\",\n",
    "        \"--by\", str(window),\n",
    "        output_prefix, bam_file\n",
    "    ], check=True)\n",
    "    \n",
    "    # Path to mosdepth output file\n",
    "    bed_file = f\"{output_prefix}.regions.bed.gz\"\n",
    "    \n",
    "    # Read coverage file\n",
    "    df = pd.read_csv(bed_file, sep=\"\\t\", names=[\"ref\", \"start\", \"end\", \"depth\"])\n",
    "    \n",
    "    # Plot coverage\n",
    "    plt.figure(figsize=(12, 5))\n",
    "    plt.plot(df[\"start\"], df[\"depth\"], linewidth=0.8)\n",
    "    plt.title(f\"Coverage Plot: {os.path.basename(bam_file)}\")\n",
    "    plt.xlabel(\"Position\")\n",
    "    plt.ylabel(\"Depth\")\n",
    "    plt.grid(True, linestyle=\"--\", alpha=0.5)\n",
    "    plt.show()\n",
    "\n",
    "    return df  # optional, return coverage table"
   ]
  },
  {
   "cell_type": "code",
   "execution_count": 11,
   "id": "b05fd993-8d21-4b4d-963f-b6fffde361ee",
   "metadata": {},
   "outputs": [
    {
     "data": {
      "image/png": "[encoded data removed]",
      "text/plain": [
       "<Figure size 1200x500 with 1 Axes>"
      ]
     },
     "metadata": {},
     "output_type": "display_data"
    }
   ],
   "source": [
    "coverage_df = coverage_plot(\"IonCode_0108_Seq.bam\", output_prefix=\"IonCode_0108_Seq.bam\", window=500)"
   ]
  },
  {
   "cell_type": "markdown",
   "id": "44afbc33-f7b0-4940-9fd4-627d3cc827bf",
   "metadata": {},
   "source": [
    "## Step 2. Convert BAM to fastq Tool (samtools)"
   ]
  },
  {
   "cell_type": "code",
   "execution_count": 12,
   "id": "fb336fbb-da9d-4d08-8f0f-5a36f14b82a0",
   "metadata": {},
   "outputs": [
    {
     "name": "stdout",
     "output_type": "stream",
     "text": [
      "[M::bam2fq_mainloop] discarded 0 singletons\n",
      "[M::bam2fq_mainloop] processed 7056161 reads\n"
     ]
    }
   ],
   "source": [
    "# convert BAM - Binary Alignment Map file format to fastq\n",
    "!samtools bam2fq IonCode_0108_Seq.bam > IonCode_0108_Seq.fastq"
   ]
  },
  {
   "cell_type": "markdown",
   "id": "c19da5ed-82cc-47c8-bffe-d194c8326a3c",
   "metadata": {},
   "source": [
    "## Step 3. Trimming (Single End Trimming) - Tool (trimmomatic)"
   ]
  },
  {
   "cell_type": "code",
   "execution_count": 13,
   "id": "da9be685-ede4-40f7-b765-098d0df7ca69",
   "metadata": {},
   "outputs": [
    {
     "name": "stdout",
     "output_type": "stream",
     "text": [
      "TrimmomaticSE: Started with arguments:\n",
      " -threads 4 -phred33 IonCode_0108_Seq.fastq IonCode_0108_Seq_trimmed.fastq SLIDINGWINDOW:4:20 LEADING:3 TRAILING:3 MINLEN:50\n",
      "Input Reads: 7056161 Surviving: 5380154 (76.25%) Dropped: 1676007 (23.75%)\n",
      "TrimmomaticSE: Completed successfully\n"
     ]
    }
   ],
   "source": [
    "# Trim off bad reads usijg trimmomatic\n",
    "\n",
    "!java -jar /usr/share/java/trimmomatic.jar SE -threads 4 -phred33 \\\n",
    "IonCode_0108_Seq.fastq IonCode_0108_Seq_trimmed.fastq \\\n",
    "SLIDINGWINDOW:4:20 LEADING:3 TRAILING:3 MINLEN:50"
   ]
  },
  {
   "cell_type": "markdown",
   "id": "de8e8443-34dc-4bbc-bbce-b6fcd777194f",
   "metadata": {},
   "source": [
    "## Step 4. Post-trimming QC - Tool (fastqc)"
   ]
  },
  {
   "cell_type": "code",
   "execution_count": 14,
   "id": "dcfa6714-9275-4a10-8141-e28b87f50e33",
   "metadata": {},
   "outputs": [
    {
     "name": "stdout",
     "output_type": "stream",
     "text": [
      "Started analysis of IonCode_0108_Seq_trimmed.fastq\n",
      "Approx 5% complete for IonCode_0108_Seq_trimmed.fastq\n",
      "Approx 10% complete for IonCode_0108_Seq_trimmed.fastq\n",
      "Approx 15% complete for IonCode_0108_Seq_trimmed.fastq\n",
      "Approx 20% complete for IonCode_0108_Seq_trimmed.fastq\n",
      "Approx 25% complete for IonCode_0108_Seq_trimmed.fastq\n",
      "Approx 30% complete for IonCode_0108_Seq_trimmed.fastq\n",
      "Approx 35% complete for IonCode_0108_Seq_trimmed.fastq\n",
      "Approx 40% complete for IonCode_0108_Seq_trimmed.fastq\n",
      "Approx 45% complete for IonCode_0108_Seq_trimmed.fastq\n",
      "Approx 50% complete for IonCode_0108_Seq_trimmed.fastq\n",
      "Approx 55% complete for IonCode_0108_Seq_trimmed.fastq\n",
      "Approx 60% complete for IonCode_0108_Seq_trimmed.fastq\n",
      "Approx 65% complete for IonCode_0108_Seq_trimmed.fastq\n",
      "Approx 70% complete for IonCode_0108_Seq_trimmed.fastq\n",
      "Approx 75% complete for IonCode_0108_Seq_trimmed.fastq\n",
      "Approx 80% complete for IonCode_0108_Seq_trimmed.fastq\n",
      "Approx 85% complete for IonCode_0108_Seq_trimmed.fastq\n",
      "Approx 90% complete for IonCode_0108_Seq_trimmed.fastq\n",
      "Approx 95% complete for IonCode_0108_Seq_trimmed.fastq\n",
      "Analysis complete for IonCode_0108_Seq_trimmed.fastq\n"
     ]
    }
   ],
   "source": [
    "# run post-trimming qc to check difference in quality\n",
    "!fastqc IonCode_0108_Seq_trimmed.fastq -o fastqc_results/"
   ]
  },
  {
   "cell_type": "markdown",
   "id": "629edb8a-df00-4c04-9436-cc6acb00fca0",
   "metadata": {},
   "source": [
    "## Step 5. Alignment - Tool (BWA + samtools)"
   ]
  },
  {
   "cell_type": "code",
   "execution_count": 18,
   "id": "3d628063-ec5b-47b9-a518-d5668a5b6dd2",
   "metadata": {},
   "outputs": [
    {
     "name": "stdout",
     "output_type": "stream",
     "text": [
      "--2025-09-15 15:25:46--  https://eutils.ncbi.nlm.nih.gov/entrez/eutils/efetch.fcgi?db=nucleotide&id=NC_045512.2&rettype=fasta&retmode=text\n",
      "Resolving eutils.ncbi.nlm.nih.gov (eutils.ncbi.nlm.nih.gov)... 130.14.29.110, 2607:f220:41e:4290::110\n",
      "Connecting to eutils.ncbi.nlm.nih.gov (eutils.ncbi.nlm.nih.gov)|130.14.29.110|:443... connected.\n",
      "HTTP request sent, awaiting response... 200 OK\n",
      "Length: unspecified [text/plain]\n",
      "Saving to: ‘NC_045512.2.fasta’\n",
      "\n",
      "NC_045512.2.fasta       [  <=>               ]  29.72K  93.3KB/s    in 0.3s    \n",
      "\n",
      "2025-09-15 15:25:48 (93.3 KB/s) - ‘NC_045512.2.fasta’ saved [30429]\n",
      "\n"
     ]
    }
   ],
   "source": [
    "# download reference fasta file NC_044512.2 to align sequence\n",
    "\n",
    "!wget \"https://eutils.ncbi.nlm.nih.gov/entrez/eutils/efetch.fcgi?db=nucleotide&id=NC_045512.2&rettype=fasta&retmode=text\" -O NC_045512.2.fasta"
   ]
  },
  {
   "cell_type": "code",
   "execution_count": 15,
   "id": "9485abde-6fa4-41a3-ba35-506225fa6c98",
   "metadata": {},
   "outputs": [
    {
     "name": "stdout",
     "output_type": "stream",
     "text": [
      "[bwa_index] Pack FASTA... 0.00 sec\n",
      "[bwa_index] Construct BWT for the packed sequence...\n",
      "[bwa_index] 0.01 seconds elapse.\n",
      "[bwa_index] Update BWT... 0.00 sec\n",
      "[bwa_index] Pack forward-only FASTA... 0.00 sec\n",
      "[bwa_index] Construct SA from BWT and Occ... 0.00 sec\n",
      "[main] Version: 0.7.17-r1188\n",
      "[main] CMD: bwa index NC_045512.2.fasta\n",
      "[main] Real time: 0.028 sec; CPU: 0.015 sec\n"
     ]
    }
   ],
   "source": [
    "# index reference fasta\n",
    "!bwa index NC_045512.2.fasta"
   ]
  },
  {
   "cell_type": "code",
   "execution_count": 16,
   "id": "189382e4-47e7-4610-8a4b-e4f85fac1918",
   "metadata": {},
   "outputs": [
    {
     "name": "stdout",
     "output_type": "stream",
     "text": [
      "[M::bwa_idx_load_from_disk] read 0 ALT contigs\n",
      "[M::process] read 481978 sequences (80000115 bp)...\n",
      "[M::process] read 490228 sequences (80000089 bp)...\n",
      "[M::mem_process_seqs] Processed 481978 reads in 14.253 CPU sec, 1.761 real sec\n",
      "[M::process] read 492932 sequences (80000157 bp)...\n",
      "[M::mem_process_seqs] Processed 490228 reads in 15.377 CPU sec, 1.838 real sec\n",
      "[M::process] read 488594 sequences (80000100 bp)...\n",
      "[M::mem_process_seqs] Processed 492932 reads in 15.229 CPU sec, 1.811 real sec\n",
      "[M::process] read 510158 sequences (80000262 bp)...\n",
      "[M::mem_process_seqs] Processed 488594 reads in 14.525 CPU sec, 1.733 real sec\n",
      "[M::process] read 489054 sequences (80000061 bp)...\n",
      "[M::mem_process_seqs] Processed 510158 reads in 16.975 CPU sec, 2.037 real sec\n",
      "[M::process] read 521534 sequences (80000013 bp)...\n",
      "[M::mem_process_seqs] Processed 489054 reads in 15.632 CPU sec, 1.868 real sec\n",
      "[M::process] read 541754 sequences (80000257 bp)...\n",
      "[M::mem_process_seqs] Processed 521534 reads in 15.295 CPU sec, 1.821 real sec\n",
      "[M::process] read 518664 sequences (80000199 bp)...\n",
      "[M::mem_process_seqs] Processed 541754 reads in 15.912 CPU sec, 1.898 real sec\n",
      "[M::process] read 542880 sequences (80000231 bp)...\n",
      "[M::mem_process_seqs] Processed 518664 reads in 17.886 CPU sec, 2.148 real sec\n",
      "[M::process] read 302378 sequences (37377547 bp)...\n",
      "[M::mem_process_seqs] Processed 542880 reads in 25.166 CPU sec, 3.033 real sec\n",
      "[M::mem_process_seqs] Processed 302378 reads in 13.929 CPU sec, 1.640 real sec\n",
      "[main] Version: 0.7.17-r1188\n",
      "[main] CMD: bwa mem -t 8 NC_045512.2.fasta IonCode_0108_Seq_trimmed.fastq\n",
      "[main] Real time: 22.249 sec; CPU: 180.728 sec\n"
     ]
    }
   ],
   "source": [
    "# align trimmed fastq file against reference fasta and convert to SAM file format\n",
    "!bwa mem -t 8 NC_045512.2.fasta IonCode_0108_Seq_trimmed.fastq > IonCode_0108_Seq_aligned.sam"
   ]
  },
  {
   "cell_type": "code",
   "execution_count": 17,
   "id": "b9577622-334b-475c-9e53-85f1f9580426",
   "metadata": {},
   "outputs": [
    {
     "name": "stdout",
     "output_type": "stream",
     "text": [
      "[bam_sort_core] merging from 2 files and 1 in-memory blocks...\n"
     ]
    }
   ],
   "source": [
    "# sort and convert the SAM file to BAM file using samtools\n",
    "!samtools sort -o IonCode_0108_Seq_aligned_sorted.bam IonCode_0108_Seq_aligned.sam"
   ]
  },
  {
   "cell_type": "code",
   "execution_count": 18,
   "id": "891ba8f1-c09d-4aed-9ac9-71b5830dbbee",
   "metadata": {},
   "outputs": [],
   "source": [
    "# index BAM file: converting it to BAI - Binary Alignment Index file format (.bai)\n",
    "!samtools index IonCode_0108_Seq_aligned_sorted.bam"
   ]
  },
  {
   "cell_type": "markdown",
   "id": "03dee835-293f-468e-b340-4c8dee580425",
   "metadata": {},
   "source": [
    "## Visualization to compare read quality after alignment"
   ]
  },
  {
   "cell_type": "code",
   "execution_count": 19,
   "id": "ab7a2bdf-2e26-4e2f-99c1-10ecb2581d65",
   "metadata": {},
   "outputs": [
    {
     "name": "stdout",
     "output_type": "stream",
     "text": [
      "Processing IonCode_0108_Seq_aligned_sorted.bam...\n"
     ]
    },
    {
     "data": {
      "image/png": "[encoded data removed]",
      "text/plain": [
       "<Figure size 1500x400 with 3 Axes>"
      ]
     },
     "metadata": {},
     "output_type": "display_data"
    },
    {
     "data": {
      "text/html": [
       "<table border=\"1\" class=\"dataframe\">\n",
       "  <thead>\n",
       "    <tr style=\"text-align: right;\">\n",
       "      <th>Sample</th>\n",
       "      <th>Total Reads</th>\n",
       "      <th>Pass Reads</th>\n",
       "      <th>Fail Reads</th>\n",
       "      <th>Pass %</th>\n",
       "      <th>Mean Read Length</th>\n",
       "      <th>Median Read Length</th>\n",
       "      <th>Mean MAPQ</th>\n",
       "    </tr>\n",
       "  </thead>\n",
       "  <tbody>\n",
       "    <tr>\n",
       "      <td>IonCode_0108_Seq_aligned_sorted.bam</td>\n",
       "      <td>5502746</td>\n",
       "      <td>5502746</td>\n",
       "      <td>0</td>\n",
       "      <td>100.0</td>\n",
       "      <td>153.1</td>\n",
       "      <td>163.0</td>\n",
       "      <td>60.0</td>\n",
       "    </tr>\n",
       "  </tbody>\n",
       "</table>"
      ],
      "text/plain": [
       "<IPython.core.display.HTML object>"
      ]
     },
     "metadata": {},
     "output_type": "display_data"
    }
   ],
   "source": [
    "qc_single_bam(\"IonCode_0108_Seq_aligned_sorted.bam\", mapq_threshold=20)"
   ]
  },
  {
   "cell_type": "markdown",
   "id": "842815f4-b643-4315-9632-54403697e107",
   "metadata": {},
   "source": [
    "## Comparing the Depth and Coverage after Re-alignment"
   ]
  },
  {
   "cell_type": "code",
   "execution_count": 20,
   "id": "4952003f-ba79-43cb-9e0a-bd120fadb477",
   "metadata": {},
   "outputs": [
    {
     "data": {
      "image/png": "[encoded data removed]",
      "text/plain": [
       "<Figure size 1200x500 with 1 Axes>"
      ]
     },
     "metadata": {},
     "output_type": "display_data"
    }
   ],
   "source": [
    "coverage_df = coverage_plot(\"IonCode_0108_Seq_aligned_sorted.bam\", output_prefix=\"IonCode_0108_Seq\", window=500)"
   ]
  },
  {
   "cell_type": "markdown",
   "id": "23bde48a-0836-47bc-9b99-5a90945b0861",
   "metadata": {},
   "source": [
    "## Step 6. Variant Calling - Tool (iVar)"
   ]
  },
  {
   "cell_type": "code",
   "execution_count": null,
   "id": "a6deeeee-f38e-47c6-96e6-e55cc2a8f638",
   "metadata": {},
   "outputs": [
    {
     "name": "stdout",
     "output_type": "stream",
     "text": [
      "[mpileup] 1 samples in 1 input files\n",
      "[mpileup] Max depth set to maximum value (2147483647)\n",
      "A GFF file containing the open reading frames (ORFs) has not been provided. Amino acid translation will not be done.\n"
     ]
    }
   ],
   "source": [
    "# carry out variant calling using samtools and iVar\n",
    "\n",
    "!samtools mpileup -aa -A -d 0 -B -Q 0 IonCode_0108_Seq_aligned_sorted.bam \\\n",
    "| ivar variants \\\n",
    "-p variants \\\n",
    "-q 20 \\\n",
    "-t 0.3 \\\n",
    "-r NC_045512.2.fasta"
   ]
  },
  {
   "cell_type": "code",
   "execution_count": 5,
   "id": "1ad4d7c2-b498-4c3c-bb25-337655b7d6a6",
   "metadata": {},
   "outputs": [
    {
     "data": {
      "text/html": [
       "<div>\n",
       "<style scoped>\n",
       "    .dataframe tbody tr th:only-of-type {\n",
       "        vertical-align: middle;\n",
       "    }\n",
       "\n",
       "    .dataframe tbody tr th {\n",
       "        vertical-align: top;\n",
       "    }\n",
       "\n",
       "    .dataframe thead th {\n",
       "        text-align: right;\n",
       "    }\n",
       "</style>\n",
       "<table border=\"1\" class=\"dataframe\">\n",
       "  <thead>\n",
       "    <tr style=\"text-align: right;\">\n",
       "      <th></th>\n",
       "      <th>REGION</th>\n",
       "      <th>POS</th>\n",
       "      <th>REF</th>\n",
       "      <th>ALT</th>\n",
       "      <th>REF_DP</th>\n",
       "      <th>REF_RV</th>\n",
       "      <th>REF_QUAL</th>\n",
       "      <th>ALT_DP</th>\n",
       "      <th>ALT_RV</th>\n",
       "      <th>ALT_QUAL</th>\n",
       "      <th>ALT_FREQ</th>\n",
       "      <th>TOTAL_DP</th>\n",
       "      <th>PVAL</th>\n",
       "      <th>PASS</th>\n",
       "      <th>GFF_FEATURE</th>\n",
       "      <th>REF_CODON</th>\n",
       "      <th>REF_AA</th>\n",
       "      <th>ALT_CODON</th>\n",
       "      <th>ALT_AA</th>\n",
       "    </tr>\n",
       "  </thead>\n",
       "  <tbody>\n",
       "    <tr>\n",
       "      <th>0</th>\n",
       "      <td>NC_045512.2</td>\n",
       "      <td>241</td>\n",
       "      <td>C</td>\n",
       "      <td>T</td>\n",
       "      <td>14</td>\n",
       "      <td>12</td>\n",
       "      <td>32</td>\n",
       "      <td>8836</td>\n",
       "      <td>6900</td>\n",
       "      <td>29</td>\n",
       "      <td>0.998305</td>\n",
       "      <td>8851</td>\n",
       "      <td>0</td>\n",
       "      <td>True</td>\n",
       "      <td>NaN</td>\n",
       "      <td>NaN</td>\n",
       "      <td>NaN</td>\n",
       "      <td>NaN</td>\n",
       "      <td>NaN</td>\n",
       "    </tr>\n",
       "    <tr>\n",
       "      <th>1</th>\n",
       "      <td>NC_045512.2</td>\n",
       "      <td>1426</td>\n",
       "      <td>C</td>\n",
       "      <td>T</td>\n",
       "      <td>63</td>\n",
       "      <td>36</td>\n",
       "      <td>31</td>\n",
       "      <td>10421</td>\n",
       "      <td>3869</td>\n",
       "      <td>31</td>\n",
       "      <td>0.993706</td>\n",
       "      <td>10487</td>\n",
       "      <td>0</td>\n",
       "      <td>True</td>\n",
       "      <td>NaN</td>\n",
       "      <td>NaN</td>\n",
       "      <td>NaN</td>\n",
       "      <td>NaN</td>\n",
       "      <td>NaN</td>\n",
       "    </tr>\n",
       "    <tr>\n",
       "      <th>2</th>\n",
       "      <td>NC_045512.2</td>\n",
       "      <td>2325</td>\n",
       "      <td>C</td>\n",
       "      <td>T</td>\n",
       "      <td>7226</td>\n",
       "      <td>5559</td>\n",
       "      <td>31</td>\n",
       "      <td>3418</td>\n",
       "      <td>2388</td>\n",
       "      <td>25</td>\n",
       "      <td>0.320217</td>\n",
       "      <td>10674</td>\n",
       "      <td>0</td>\n",
       "      <td>True</td>\n",
       "      <td>NaN</td>\n",
       "      <td>NaN</td>\n",
       "      <td>NaN</td>\n",
       "      <td>NaN</td>\n",
       "      <td>NaN</td>\n",
       "    </tr>\n",
       "    <tr>\n",
       "      <th>3</th>\n",
       "      <td>NC_045512.2</td>\n",
       "      <td>3037</td>\n",
       "      <td>C</td>\n",
       "      <td>T</td>\n",
       "      <td>6</td>\n",
       "      <td>6</td>\n",
       "      <td>32</td>\n",
       "      <td>21550</td>\n",
       "      <td>14314</td>\n",
       "      <td>31</td>\n",
       "      <td>0.999675</td>\n",
       "      <td>21557</td>\n",
       "      <td>0</td>\n",
       "      <td>True</td>\n",
       "      <td>NaN</td>\n",
       "      <td>NaN</td>\n",
       "      <td>NaN</td>\n",
       "      <td>NaN</td>\n",
       "      <td>NaN</td>\n",
       "    </tr>\n",
       "    <tr>\n",
       "      <th>4</th>\n",
       "      <td>NC_045512.2</td>\n",
       "      <td>3251</td>\n",
       "      <td>G</td>\n",
       "      <td>A</td>\n",
       "      <td>22</td>\n",
       "      <td>7</td>\n",
       "      <td>28</td>\n",
       "      <td>10429</td>\n",
       "      <td>3627</td>\n",
       "      <td>29</td>\n",
       "      <td>0.997895</td>\n",
       "      <td>10451</td>\n",
       "      <td>0</td>\n",
       "      <td>True</td>\n",
       "      <td>NaN</td>\n",
       "      <td>NaN</td>\n",
       "      <td>NaN</td>\n",
       "      <td>NaN</td>\n",
       "      <td>NaN</td>\n",
       "    </tr>\n",
       "    <tr>\n",
       "      <th>5</th>\n",
       "      <td>NC_045512.2</td>\n",
       "      <td>3811</td>\n",
       "      <td>C</td>\n",
       "      <td>T</td>\n",
       "      <td>4</td>\n",
       "      <td>3</td>\n",
       "      <td>33</td>\n",
       "      <td>15823</td>\n",
       "      <td>11197</td>\n",
       "      <td>32</td>\n",
       "      <td>0.999747</td>\n",
       "      <td>15827</td>\n",
       "      <td>0</td>\n",
       "      <td>True</td>\n",
       "      <td>NaN</td>\n",
       "      <td>NaN</td>\n",
       "      <td>NaN</td>\n",
       "      <td>NaN</td>\n",
       "      <td>NaN</td>\n",
       "    </tr>\n",
       "    <tr>\n",
       "      <th>6</th>\n",
       "      <td>NC_045512.2</td>\n",
       "      <td>3832</td>\n",
       "      <td>C</td>\n",
       "      <td>-N</td>\n",
       "      <td>5784</td>\n",
       "      <td>4494</td>\n",
       "      <td>27</td>\n",
       "      <td>2804</td>\n",
       "      <td>0</td>\n",
       "      <td>20</td>\n",
       "      <td>0.482201</td>\n",
       "      <td>5815</td>\n",
       "      <td>0</td>\n",
       "      <td>True</td>\n",
       "      <td>NaN</td>\n",
       "      <td>NaN</td>\n",
       "      <td>NaN</td>\n",
       "      <td>NaN</td>\n",
       "      <td>NaN</td>\n",
       "    </tr>\n",
       "    <tr>\n",
       "      <th>7</th>\n",
       "      <td>NC_045512.2</td>\n",
       "      <td>6608</td>\n",
       "      <td>A</td>\n",
       "      <td>G</td>\n",
       "      <td>213</td>\n",
       "      <td>207</td>\n",
       "      <td>32</td>\n",
       "      <td>4470</td>\n",
       "      <td>900</td>\n",
       "      <td>31</td>\n",
       "      <td>0.954516</td>\n",
       "      <td>4683</td>\n",
       "      <td>0</td>\n",
       "      <td>True</td>\n",
       "      <td>NaN</td>\n",
       "      <td>NaN</td>\n",
       "      <td>NaN</td>\n",
       "      <td>NaN</td>\n",
       "      <td>NaN</td>\n",
       "    </tr>\n",
       "    <tr>\n",
       "      <th>8</th>\n",
       "      <td>NC_045512.2</td>\n",
       "      <td>7262</td>\n",
       "      <td>C</td>\n",
       "      <td>T</td>\n",
       "      <td>1850</td>\n",
       "      <td>576</td>\n",
       "      <td>30</td>\n",
       "      <td>4885</td>\n",
       "      <td>826</td>\n",
       "      <td>27</td>\n",
       "      <td>0.725316</td>\n",
       "      <td>6735</td>\n",
       "      <td>0</td>\n",
       "      <td>True</td>\n",
       "      <td>NaN</td>\n",
       "      <td>NaN</td>\n",
       "      <td>NaN</td>\n",
       "      <td>NaN</td>\n",
       "      <td>NaN</td>\n",
       "    </tr>\n",
       "    <tr>\n",
       "      <th>9</th>\n",
       "      <td>NC_045512.2</td>\n",
       "      <td>9314</td>\n",
       "      <td>G</td>\n",
       "      <td>-N</td>\n",
       "      <td>16381</td>\n",
       "      <td>7603</td>\n",
       "      <td>28</td>\n",
       "      <td>5297</td>\n",
       "      <td>0</td>\n",
       "      <td>20</td>\n",
       "      <td>0.322104</td>\n",
       "      <td>16445</td>\n",
       "      <td>0</td>\n",
       "      <td>True</td>\n",
       "      <td>NaN</td>\n",
       "      <td>NaN</td>\n",
       "      <td>NaN</td>\n",
       "      <td>NaN</td>\n",
       "      <td>NaN</td>\n",
       "    </tr>\n",
       "    <tr>\n",
       "      <th>10</th>\n",
       "      <td>NC_045512.2</td>\n",
       "      <td>10458</td>\n",
       "      <td>C</td>\n",
       "      <td>T</td>\n",
       "      <td>4</td>\n",
       "      <td>1</td>\n",
       "      <td>31</td>\n",
       "      <td>13108</td>\n",
       "      <td>1800</td>\n",
       "      <td>31</td>\n",
       "      <td>0.999695</td>\n",
       "      <td>13112</td>\n",
       "      <td>0</td>\n",
       "      <td>True</td>\n",
       "      <td>NaN</td>\n",
       "      <td>NaN</td>\n",
       "      <td>NaN</td>\n",
       "      <td>NaN</td>\n",
       "      <td>NaN</td>\n",
       "    </tr>\n",
       "    <tr>\n",
       "      <th>11</th>\n",
       "      <td>NC_045512.2</td>\n",
       "      <td>10857</td>\n",
       "      <td>T</td>\n",
       "      <td>-N</td>\n",
       "      <td>32980</td>\n",
       "      <td>17469</td>\n",
       "      <td>27</td>\n",
       "      <td>13987</td>\n",
       "      <td>0</td>\n",
       "      <td>20</td>\n",
       "      <td>0.383668</td>\n",
       "      <td>36456</td>\n",
       "      <td>0</td>\n",
       "      <td>True</td>\n",
       "      <td>NaN</td>\n",
       "      <td>NaN</td>\n",
       "      <td>NaN</td>\n",
       "      <td>NaN</td>\n",
       "      <td>NaN</td>\n",
       "    </tr>\n",
       "    <tr>\n",
       "      <th>12</th>\n",
       "      <td>NC_045512.2</td>\n",
       "      <td>12403</td>\n",
       "      <td>C</td>\n",
       "      <td>T</td>\n",
       "      <td>13</td>\n",
       "      <td>5</td>\n",
       "      <td>29</td>\n",
       "      <td>27558</td>\n",
       "      <td>12686</td>\n",
       "      <td>29</td>\n",
       "      <td>0.999492</td>\n",
       "      <td>27572</td>\n",
       "      <td>0</td>\n",
       "      <td>True</td>\n",
       "      <td>NaN</td>\n",
       "      <td>NaN</td>\n",
       "      <td>NaN</td>\n",
       "      <td>NaN</td>\n",
       "      <td>NaN</td>\n",
       "    </tr>\n",
       "    <tr>\n",
       "      <th>13</th>\n",
       "      <td>NC_045512.2</td>\n",
       "      <td>14408</td>\n",
       "      <td>C</td>\n",
       "      <td>T</td>\n",
       "      <td>48</td>\n",
       "      <td>27</td>\n",
       "      <td>29</td>\n",
       "      <td>9220</td>\n",
       "      <td>3356</td>\n",
       "      <td>29</td>\n",
       "      <td>0.994821</td>\n",
       "      <td>9268</td>\n",
       "      <td>0</td>\n",
       "      <td>True</td>\n",
       "      <td>NaN</td>\n",
       "      <td>NaN</td>\n",
       "      <td>NaN</td>\n",
       "      <td>NaN</td>\n",
       "      <td>NaN</td>\n",
       "    </tr>\n",
       "    <tr>\n",
       "      <th>14</th>\n",
       "      <td>NC_045512.2</td>\n",
       "      <td>16376</td>\n",
       "      <td>C</td>\n",
       "      <td>T</td>\n",
       "      <td>175</td>\n",
       "      <td>88</td>\n",
       "      <td>31</td>\n",
       "      <td>100545</td>\n",
       "      <td>42358</td>\n",
       "      <td>32</td>\n",
       "      <td>0.998124</td>\n",
       "      <td>100734</td>\n",
       "      <td>0</td>\n",
       "      <td>True</td>\n",
       "      <td>NaN</td>\n",
       "      <td>NaN</td>\n",
       "      <td>NaN</td>\n",
       "      <td>NaN</td>\n",
       "      <td>NaN</td>\n",
       "    </tr>\n",
       "    <tr>\n",
       "      <th>15</th>\n",
       "      <td>NC_045512.2</td>\n",
       "      <td>18877</td>\n",
       "      <td>C</td>\n",
       "      <td>T</td>\n",
       "      <td>51</td>\n",
       "      <td>24</td>\n",
       "      <td>32</td>\n",
       "      <td>53322</td>\n",
       "      <td>25145</td>\n",
       "      <td>32</td>\n",
       "      <td>0.998932</td>\n",
       "      <td>53379</td>\n",
       "      <td>0</td>\n",
       "      <td>True</td>\n",
       "      <td>NaN</td>\n",
       "      <td>NaN</td>\n",
       "      <td>NaN</td>\n",
       "      <td>NaN</td>\n",
       "      <td>NaN</td>\n",
       "    </tr>\n",
       "    <tr>\n",
       "      <th>16</th>\n",
       "      <td>NC_045512.2</td>\n",
       "      <td>19368</td>\n",
       "      <td>A</td>\n",
       "      <td>-N</td>\n",
       "      <td>12652</td>\n",
       "      <td>5417</td>\n",
       "      <td>27</td>\n",
       "      <td>4026</td>\n",
       "      <td>0</td>\n",
       "      <td>20</td>\n",
       "      <td>0.317358</td>\n",
       "      <td>12686</td>\n",
       "      <td>0</td>\n",
       "      <td>True</td>\n",
       "      <td>NaN</td>\n",
       "      <td>NaN</td>\n",
       "      <td>NaN</td>\n",
       "      <td>NaN</td>\n",
       "      <td>NaN</td>\n",
       "    </tr>\n",
       "    <tr>\n",
       "      <th>17</th>\n",
       "      <td>NC_045512.2</td>\n",
       "      <td>21345</td>\n",
       "      <td>A</td>\n",
       "      <td>-N</td>\n",
       "      <td>33830</td>\n",
       "      <td>19261</td>\n",
       "      <td>30</td>\n",
       "      <td>10367</td>\n",
       "      <td>0</td>\n",
       "      <td>20</td>\n",
       "      <td>0.306209</td>\n",
       "      <td>33856</td>\n",
       "      <td>0</td>\n",
       "      <td>True</td>\n",
       "      <td>NaN</td>\n",
       "      <td>NaN</td>\n",
       "      <td>NaN</td>\n",
       "      <td>NaN</td>\n",
       "      <td>NaN</td>\n",
       "    </tr>\n",
       "    <tr>\n",
       "      <th>18</th>\n",
       "      <td>NC_045512.2</td>\n",
       "      <td>21817</td>\n",
       "      <td>A</td>\n",
       "      <td>-N</td>\n",
       "      <td>7177</td>\n",
       "      <td>3401</td>\n",
       "      <td>30</td>\n",
       "      <td>3472</td>\n",
       "      <td>0</td>\n",
       "      <td>20</td>\n",
       "      <td>0.478105</td>\n",
       "      <td>7262</td>\n",
       "      <td>0</td>\n",
       "      <td>True</td>\n",
       "      <td>NaN</td>\n",
       "      <td>NaN</td>\n",
       "      <td>NaN</td>\n",
       "      <td>NaN</td>\n",
       "      <td>NaN</td>\n",
       "    </tr>\n",
       "    <tr>\n",
       "      <th>19</th>\n",
       "      <td>NC_045512.2</td>\n",
       "      <td>22206</td>\n",
       "      <td>A</td>\n",
       "      <td>-N</td>\n",
       "      <td>16245</td>\n",
       "      <td>6156</td>\n",
       "      <td>31</td>\n",
       "      <td>5398</td>\n",
       "      <td>0</td>\n",
       "      <td>20</td>\n",
       "      <td>0.331817</td>\n",
       "      <td>16268</td>\n",
       "      <td>0</td>\n",
       "      <td>True</td>\n",
       "      <td>NaN</td>\n",
       "      <td>NaN</td>\n",
       "      <td>NaN</td>\n",
       "      <td>NaN</td>\n",
       "      <td>NaN</td>\n",
       "    </tr>\n",
       "    <tr>\n",
       "      <th>20</th>\n",
       "      <td>NC_045512.2</td>\n",
       "      <td>23403</td>\n",
       "      <td>A</td>\n",
       "      <td>G</td>\n",
       "      <td>13</td>\n",
       "      <td>11</td>\n",
       "      <td>29</td>\n",
       "      <td>30779</td>\n",
       "      <td>19983</td>\n",
       "      <td>27</td>\n",
       "      <td>0.999545</td>\n",
       "      <td>30793</td>\n",
       "      <td>0</td>\n",
       "      <td>True</td>\n",
       "      <td>NaN</td>\n",
       "      <td>NaN</td>\n",
       "      <td>NaN</td>\n",
       "      <td>NaN</td>\n",
       "      <td>NaN</td>\n",
       "    </tr>\n",
       "    <tr>\n",
       "      <th>21</th>\n",
       "      <td>NC_045512.2</td>\n",
       "      <td>25563</td>\n",
       "      <td>G</td>\n",
       "      <td>T</td>\n",
       "      <td>6</td>\n",
       "      <td>0</td>\n",
       "      <td>24</td>\n",
       "      <td>59882</td>\n",
       "      <td>20044</td>\n",
       "      <td>31</td>\n",
       "      <td>0.998316</td>\n",
       "      <td>59983</td>\n",
       "      <td>0</td>\n",
       "      <td>True</td>\n",
       "      <td>NaN</td>\n",
       "      <td>NaN</td>\n",
       "      <td>NaN</td>\n",
       "      <td>NaN</td>\n",
       "      <td>NaN</td>\n",
       "    </tr>\n",
       "    <tr>\n",
       "      <th>22</th>\n",
       "      <td>NC_045512.2</td>\n",
       "      <td>25793</td>\n",
       "      <td>G</td>\n",
       "      <td>T</td>\n",
       "      <td>23463</td>\n",
       "      <td>15052</td>\n",
       "      <td>31</td>\n",
       "      <td>17766</td>\n",
       "      <td>11205</td>\n",
       "      <td>28</td>\n",
       "      <td>0.430409</td>\n",
       "      <td>41277</td>\n",
       "      <td>0</td>\n",
       "      <td>True</td>\n",
       "      <td>NaN</td>\n",
       "      <td>NaN</td>\n",
       "      <td>NaN</td>\n",
       "      <td>NaN</td>\n",
       "      <td>NaN</td>\n",
       "    </tr>\n",
       "    <tr>\n",
       "      <th>23</th>\n",
       "      <td>NC_045512.2</td>\n",
       "      <td>26142</td>\n",
       "      <td>C</td>\n",
       "      <td>-N</td>\n",
       "      <td>10019</td>\n",
       "      <td>271</td>\n",
       "      <td>29</td>\n",
       "      <td>4870</td>\n",
       "      <td>0</td>\n",
       "      <td>20</td>\n",
       "      <td>0.483375</td>\n",
       "      <td>10075</td>\n",
       "      <td>0</td>\n",
       "      <td>True</td>\n",
       "      <td>NaN</td>\n",
       "      <td>NaN</td>\n",
       "      <td>NaN</td>\n",
       "      <td>NaN</td>\n",
       "      <td>NaN</td>\n",
       "    </tr>\n",
       "    <tr>\n",
       "      <th>24</th>\n",
       "      <td>NC_045512.2</td>\n",
       "      <td>26735</td>\n",
       "      <td>C</td>\n",
       "      <td>T</td>\n",
       "      <td>16</td>\n",
       "      <td>10</td>\n",
       "      <td>29</td>\n",
       "      <td>48504</td>\n",
       "      <td>25438</td>\n",
       "      <td>31</td>\n",
       "      <td>0.999670</td>\n",
       "      <td>48520</td>\n",
       "      <td>0</td>\n",
       "      <td>True</td>\n",
       "      <td>NaN</td>\n",
       "      <td>NaN</td>\n",
       "      <td>NaN</td>\n",
       "      <td>NaN</td>\n",
       "      <td>NaN</td>\n",
       "    </tr>\n",
       "    <tr>\n",
       "      <th>25</th>\n",
       "      <td>NC_045512.2</td>\n",
       "      <td>27312</td>\n",
       "      <td>T</td>\n",
       "      <td>-N</td>\n",
       "      <td>50435</td>\n",
       "      <td>28456</td>\n",
       "      <td>27</td>\n",
       "      <td>20809</td>\n",
       "      <td>0</td>\n",
       "      <td>20</td>\n",
       "      <td>0.379927</td>\n",
       "      <td>54771</td>\n",
       "      <td>0</td>\n",
       "      <td>True</td>\n",
       "      <td>NaN</td>\n",
       "      <td>NaN</td>\n",
       "      <td>NaN</td>\n",
       "      <td>NaN</td>\n",
       "      <td>NaN</td>\n",
       "    </tr>\n",
       "    <tr>\n",
       "      <th>26</th>\n",
       "      <td>NC_045512.2</td>\n",
       "      <td>28022</td>\n",
       "      <td>T</td>\n",
       "      <td>-N</td>\n",
       "      <td>110379</td>\n",
       "      <td>40930</td>\n",
       "      <td>29</td>\n",
       "      <td>37173</td>\n",
       "      <td>0</td>\n",
       "      <td>20</td>\n",
       "      <td>0.329440</td>\n",
       "      <td>112837</td>\n",
       "      <td>0</td>\n",
       "      <td>True</td>\n",
       "      <td>NaN</td>\n",
       "      <td>NaN</td>\n",
       "      <td>NaN</td>\n",
       "      <td>NaN</td>\n",
       "      <td>NaN</td>\n",
       "    </tr>\n",
       "  </tbody>\n",
       "</table>\n",
       "</div>"
      ],
      "text/plain": [
       "         REGION    POS REF ALT  REF_DP  REF_RV  REF_QUAL  ALT_DP  ALT_RV  \\\n",
       "0   NC_045512.2    241   C   T      14      12        32    8836    6900   \n",
       "1   NC_045512.2   1426   C   T      63      36        31   10421    3869   \n",
       "2   NC_045512.2   2325   C   T    7226    5559        31    3418    2388   \n",
       "3   NC_045512.2   3037   C   T       6       6        32   21550   14314   \n",
       "4   NC_045512.2   3251   G   A      22       7        28   10429    3627   \n",
       "5   NC_045512.2   3811   C   T       4       3        33   15823   11197   \n",
       "6   NC_045512.2   3832   C  -N    5784    4494        27    2804       0   \n",
       "7   NC_045512.2   6608   A   G     213     207        32    4470     900   \n",
       "8   NC_045512.2   7262   C   T    1850     576        30    4885     826   \n",
       "9   NC_045512.2   9314   G  -N   16381    7603        28    5297       0   \n",
       "10  NC_045512.2  10458   C   T       4       1        31   13108    1800   \n",
       "11  NC_045512.2  10857   T  -N   32980   17469        27   13987       0   \n",
       "12  NC_045512.2  12403   C   T      13       5        29   27558   12686   \n",
       "13  NC_045512.2  14408   C   T      48      27        29    9220    3356   \n",
       "14  NC_045512.2  16376   C   T     175      88        31  100545   42358   \n",
       "15  NC_045512.2  18877   C   T      51      24        32   53322   25145   \n",
       "16  NC_045512.2  19368   A  -N   12652    5417        27    4026       0   \n",
       "17  NC_045512.2  21345   A  -N   33830   19261        30   10367       0   \n",
       "18  NC_045512.2  21817   A  -N    7177    3401        30    3472       0   \n",
       "19  NC_045512.2  22206   A  -N   16245    6156        31    5398       0   \n",
       "20  NC_045512.2  23403   A   G      13      11        29   30779   19983   \n",
       "21  NC_045512.2  25563   G   T       6       0        24   59882   20044   \n",
       "22  NC_045512.2  25793   G   T   23463   15052        31   17766   11205   \n",
       "23  NC_045512.2  26142   C  -N   10019     271        29    4870       0   \n",
       "24  NC_045512.2  26735   C   T      16      10        29   48504   25438   \n",
       "25  NC_045512.2  27312   T  -N   50435   28456        27   20809       0   \n",
       "26  NC_045512.2  28022   T  -N  110379   40930        29   37173       0   \n",
       "\n",
       "    ALT_QUAL  ALT_FREQ  TOTAL_DP  PVAL  PASS  GFF_FEATURE  REF_CODON  REF_AA  \\\n",
       "0         29  0.998305      8851     0  True          NaN        NaN     NaN   \n",
       "1         31  0.993706     10487     0  True          NaN        NaN     NaN   \n",
       "2         25  0.320217     10674     0  True          NaN        NaN     NaN   \n",
       "3         31  0.999675     21557     0  True          NaN        NaN     NaN   \n",
       "4         29  0.997895     10451     0  True          NaN        NaN     NaN   \n",
       "5         32  0.999747     15827     0  True          NaN        NaN     NaN   \n",
       "6         20  0.482201      5815     0  True          NaN        NaN     NaN   \n",
       "7         31  0.954516      4683     0  True          NaN        NaN     NaN   \n",
       "8         27  0.725316      6735     0  True          NaN        NaN     NaN   \n",
       "9         20  0.322104     16445     0  True          NaN        NaN     NaN   \n",
       "10        31  0.999695     13112     0  True          NaN        NaN     NaN   \n",
       "11        20  0.383668     36456     0  True          NaN        NaN     NaN   \n",
       "12        29  0.999492     27572     0  True          NaN        NaN     NaN   \n",
       "13        29  0.994821      9268     0  True          NaN        NaN     NaN   \n",
       "14        32  0.998124    100734     0  True          NaN        NaN     NaN   \n",
       "15        32  0.998932     53379     0  True          NaN        NaN     NaN   \n",
       "16        20  0.317358     12686     0  True          NaN        NaN     NaN   \n",
       "17        20  0.306209     33856     0  True          NaN        NaN     NaN   \n",
       "18        20  0.478105      7262     0  True          NaN        NaN     NaN   \n",
       "19        20  0.331817     16268     0  True          NaN        NaN     NaN   \n",
       "20        27  0.999545     30793     0  True          NaN        NaN     NaN   \n",
       "21        31  0.998316     59983     0  True          NaN        NaN     NaN   \n",
       "22        28  0.430409     41277     0  True          NaN        NaN     NaN   \n",
       "23        20  0.483375     10075     0  True          NaN        NaN     NaN   \n",
       "24        31  0.999670     48520     0  True          NaN        NaN     NaN   \n",
       "25        20  0.379927     54771     0  True          NaN        NaN     NaN   \n",
       "26        20  0.329440    112837     0  True          NaN        NaN     NaN   \n",
       "\n",
       "    ALT_CODON  ALT_AA  \n",
       "0         NaN     NaN  \n",
       "1         NaN     NaN  \n",
       "2         NaN     NaN  \n",
       "3         NaN     NaN  \n",
       "4         NaN     NaN  \n",
       "5         NaN     NaN  \n",
       "6         NaN     NaN  \n",
       "7         NaN     NaN  \n",
       "8         NaN     NaN  \n",
       "9         NaN     NaN  \n",
       "10        NaN     NaN  \n",
       "11        NaN     NaN  \n",
       "12        NaN     NaN  \n",
       "13        NaN     NaN  \n",
       "14        NaN     NaN  \n",
       "15        NaN     NaN  \n",
       "16        NaN     NaN  \n",
       "17        NaN     NaN  \n",
       "18        NaN     NaN  \n",
       "19        NaN     NaN  \n",
       "20        NaN     NaN  \n",
       "21        NaN     NaN  \n",
       "22        NaN     NaN  \n",
       "23        NaN     NaN  \n",
       "24        NaN     NaN  \n",
       "25        NaN     NaN  \n",
       "26        NaN     NaN  "
      ]
     },
     "execution_count": 5,
     "metadata": {},
     "output_type": "execute_result"
    }
   ],
   "source": [
    "df = pd.read_csv(\"variants.tsv\", sep=\"\\t\")\n",
    "\n",
    "df"
   ]
  },
  {
   "cell_type": "markdown",
   "id": "617b979d-6ec5-4726-912b-06106bdc9cd5",
   "metadata": {},
   "source": [
    "## Step 7. Consensus Generation - Tool (iVar)"
   ]
  },
  {
   "cell_type": "code",
   "execution_count": 1,
   "id": "076af24e-edc0-4137-92fa-b0e6b2c948af",
   "metadata": {},
   "outputs": [
    {
     "name": "stdout",
     "output_type": "stream",
     "text": [
      "[mpileup] 1 samples in 1 input files\n",
      "[mpileup] Max depth set to maximum value (2147483647)\n",
      "Minimum Quality: 20\n",
      "Threshold: 0.5\n",
      "Minimum depth: 10\n",
      "Regions with depth less than minimum depth covered by: N\n",
      "Reference length: 29903\n",
      "Positions with 0 depth: 63\n",
      "Positions with depth below 10: 66\n"
     ]
    }
   ],
   "source": [
    "# generate the consensus fasta using samtools and iVar\n",
    "\n",
    "!samtools mpileup -aa -A -d 0 -B -Q 0 IonCode_0108_Seq_aligned_sorted.bam | \\\n",
    "ivar consensus \\\n",
    "  -p consensus \\\n",
    "  -t 0.5 \\\n",
    "  -n N \\\n",
    "  -m 10"
   ]
  },
  {
   "cell_type": "code",
   "execution_count": 2,
   "id": "59bf496f-d1cf-4e3b-9c41-cb904830a0a0",
   "metadata": {},
   "outputs": [],
   "source": [
    "# change file name and format to \".fasta\"\n",
    "!mv consensus.fa IonCode_0108_Seq.fasta"
   ]
  },
  {
   "cell_type": "code",
   "execution_count": null,
   "id": "5020e502-7f25-4111-a420-e9096f68a04f",
   "metadata": {},
   "outputs": [
    {
     "name": "stdout",
     "output_type": "stream",
     "text": [
      ">Consensus_consensus_threshold_0.5_quality_20\n",
      "NNNNNNNNNNNNNNNNNNNNNNNGTAACAAACCAACCAACTTTCGATCTCTTGTAGATCTGTTCTCTAAACGAACTTTAAAATCTGTGTGGCTGTCACTCGGCTGCATGCTTAGTGCACTCACGCAGTATAATTAATAACTAATTACTGTCGTTGACAGGACACGAGTAACTCGTCTATCTTCTGCAGGCTGCTTACGGTTTCGTCCGTGTTGCAGCCGATCATCAGCACATCTAGGTTTTGTCCGGGTGTGACCGAAAGGTAAGATGGAGAGCCTTGTCCCTGGTTTCAACGAGAAAACACACGTCCAACTCAGTTTGCCTGTTTTACAGGTTCGCGACGTGCTCGTACGTGGCTTTGGAGACTCCGTGGAGGAGGTCTTATCAGAGGCACGTCAACATCTTAAAGATGGCACTTGTGGCTTAGTAGAAGTTGAAAAAGGCGTTTTGCCTCAACTTGAACAGCCCTATGTGTTCATCAAACGTTCGGATGCTCGAACTGCACCTCATGGTCATGTTATGGTTGAGCTGGTAGCAGAACTCGAAGGCATTCAGTACGGTCGTAGTGGTGAGACACTTGGTGTCCTTGTCCCTCATGTGGGCGAAATACCAGTGGCTTACCGCAAGGTTCTTCTTCGTAAGAACGGTAATAAAGGAGCTGGTGGCCATAGTTACGGCGCCGATCTAAAGTCATTTGACTTAGGCGACGAGCTTGGCACTGATCCTTATGAAGATTTTCAAGAAAACTGGAACACTAAACATAGCAGTGGTGTTACCCGTGAACTCATGCGTGAGCTTAACGGAGGGGCATACACTCGCTATGTCGATAACAACTTCTGTGGCCCTGATGGCTACCCTCTTGAGTGCATTAAAGACCTTCTAGCACGTGCTGGTAAAGCTTCATGCACTTTGTCCGAACAACTGGACTTTATTGACACTAAGAGGGGTGTATACTGCTGCCGTGAACATGAGCATGAAATTGCTTGGTACACGGAACGTTCTGAAAAGAGCTATGAATTGCAGACACCTTTTGAAATTAAATTGGCAAAGAAATTTGACACCTTCAATGGGGAATGTCCAAATTTTGTATTTCCCTTAAATTCCATAATCAAGACTATTCAACCAAGGGTTGAAAAGAAAAAGCTTGATGGCTTTATGGGTAGAATTCGATCTGTCTATCCAGTTGCGTCACCAAATGAATGCAACCAAATGTGCCTTTCAACTCTCATGAAGTGTGATCATTGTGGTGAAACTTCATGGCAGACGGGCGATTTTGTTAAAGCCACTTGCGAATTTTGTGGCACTGAGAATTTGACTAAAGAAGGTGCCACTACTTGTGGTTACTTACCCCAAAATGCTGTTGTTAAAATTTATTGTCCAGCATGTCACAATTCAGAAGTAGGACCTGAGCATAGTCTTGCCGAATATCATAATGAATCTGGCTTGAAAACCATTCTTCGTAAGGGTGGTCGCACTATTGCCTTTGGAGGCTGTGTGTTCTCTTATGTTGGTTGCCATAACAAGTGTGCCTATTGGGTTCCACGTGCTAGCGCTAACATAGGTTGTAACCATACAGGTGTTGTTGGAGAAGGTTCCGAAGGTCTTAATGACAACCTTCTTGAAATACTCCAAAAAGAGAAAGTCAACATCAATATTGTTGGTGACTTTAAACTTAATGAAGAGATCGCCATTATTTTGGCATCTTTTTCTGCTTCCACAAGTGCTTTTGTGGAAACTGTGAAAGGTTTGGATTATAAAGCAT\u001b[7mIonCode_0108_Seq.fasta\u001b[m\u001b[K"
     ]
    }
   ],
   "source": [
    "!less IonCode_0108_Seq.fasta"
   ]
  },
  {
   "cell_type": "code",
   "execution_count": 2,
   "id": "e7296276-6634-4f6d-8279-2e2cafb393e6",
   "metadata": {},
   "outputs": [],
   "source": [
    "# apply function to count total number of sequence\n",
    "\n",
    "from Bio import SeqIO\n",
    "\n",
    "def count_bases_and_ns(fasta_file):\n",
    "    \"\"\"\n",
    "    Count total A/T/C/G bases, number of N's, and sequences in a FASTA file.\n",
    "    \n",
    "    Parameters:\n",
    "    fasta_file (str): Path to the FASTA file.\n",
    "    \n",
    "    Returns:\n",
    "    dict: {\n",
    "        \"sequences\": int,\n",
    "        \"atcg_bases\": int,\n",
    "        \"n_bases\": int\n",
    "    }\n",
    "    \"\"\"\n",
    "    sequences = 0\n",
    "    atcg_bases = 0\n",
    "    n_bases = 0\n",
    "    \n",
    "    for record in SeqIO.parse(fasta_file, \"fasta\"):\n",
    "        seq_str = str(record.seq).upper()\n",
    "        sequences += 1\n",
    "        atcg_bases += sum(base in \"ATCG\" for base in seq_str)\n",
    "        n_bases += seq_str.count(\"N\")\n",
    "    \n",
    "    return {\n",
    "        \"sequences\": sequences,\n",
    "        \"atcg_bases\": atcg_bases,\n",
    "        \"n_bases\": n_bases\n",
    "    }\n"
   ]
  },
  {
   "cell_type": "code",
   "execution_count": 3,
   "id": "36f4f6fa-0729-45ae-8893-f31ecdd537b9",
   "metadata": {},
   "outputs": [
    {
     "name": "stdout",
     "output_type": "stream",
     "text": [
      "Total sequences: 1\n",
      "A/T/C/G bases: 29835\n",
      "N bases: 66\n"
     ]
    }
   ],
   "source": [
    "consensus_file = \"IonCode_0108_Seq.fasta\"\n",
    "result = count_bases_and_ns(consensus_file)\n",
    "\n",
    "print(f\"Total sequences: {result['sequences']}\")\n",
    "print(f\"A/T/C/G bases: {result['atcg_bases']}\")\n",
    "print(f\"N bases: {result['n_bases']}\")"
   ]
  },
  {
   "cell_type": "code",
   "execution_count": 4,
   "id": "1318c86a-ae88-4eb1-a6c5-a132b298b949",
   "metadata": {},
   "outputs": [
    {
     "name": "stdout",
     "output_type": "stream",
     "text": [
      "The total proportion of ambiguous bases (Ns) in this sequence is 0.22%\n",
      "Sequence is considered good/acceptable and can be considered for submission.\n"
     ]
    }
   ],
   "source": [
    "try:\n",
    "    ambiguous_bases = (result['n_bases'] / (result['atcg_bases'] + result[\"n_bases\"])) * 100\n",
    "    print(f\"The total proportion of ambiguous bases (Ns) in this sequence is {round(ambiguous_bases, 2)}%\")\n",
    "\n",
    "    # screen sequence according to the percentage of ambiguous bases\n",
    "    if ambiguous_bases <= 5:\n",
    "        print(\"Sequence is considered good/acceptable and can be considered for submission.\")\n",
    "    elif 5 < ambiguous_bases <= 10:\n",
    "        print(\"Sequence is flagged as low coverage and may or may not be considered for submission.\")\n",
    "    else:\n",
    "        print(\"Sequence has poor quality and cannot be considered for submission.\")\n",
    "\n",
    "except ZeroDivisionError:\n",
    "    print(\"\"\"\n",
    "    The sequence has no A/T/C/G bases. Cannot calculate percentage of Ns.\n",
    "    \n",
    "    Your sequence has no usable consensus. This might be due to low amount of quality reads and coverage.\n",
    "    \"\"\")"
   ]
  },
  {
   "cell_type": "markdown",
   "id": "325cbd9f-2f2d-4602-bf24-c149580644cf",
   "metadata": {},
   "source": [
    "**For GISAID/NCBI submission, the general expectation is:**\n",
    "\n",
    "><5% Ns → considered good/acceptable.\n",
    "\n",
    ">5–10% Ns → borderline, may pass but flagged as low coverage.\n",
    "\n",
    ">10% Ns → usually rejected or discouraged because of poor quality."
   ]
  },
  {
   "cell_type": "code",
   "execution_count": 7,
   "id": "5a314455-b454-4e23-a279-1e8a211c6f5c",
   "metadata": {},
   "outputs": [],
   "source": [
    "# clean ambiguous bases from the sequence\n",
    "!sed '/^>/! s/N//g' IonCode_0108_Seq.fasta > IonCode_0108_Seq_clean.fasta"
   ]
  },
  {
   "cell_type": "code",
   "execution_count": 13,
   "id": "c8d65b1d-d9bd-434b-9f9f-f3995e84bbfc",
   "metadata": {},
   "outputs": [
    {
     "name": "stdout",
     "output_type": "stream",
     "text": [
      "29835\n"
     ]
    }
   ],
   "source": [
    "!grep -v \">\" IonCode_0108_Seq_clean.fasta | tr -d '\\n' | wc -c"
   ]
  },
  {
   "cell_type": "markdown",
   "id": "665ea484-c6df-4fb1-8337-09e7b561e34c",
   "metadata": {},
   "source": [
    "## Step 8. Lineage/Clade Check Using NextClade"
   ]
  },
  {
   "cell_type": "code",
   "execution_count": 35,
   "id": "823b0ba8-963f-4a8c-903a-5e9774dcd024",
   "metadata": {},
   "outputs": [],
   "source": [
    "# download nextclade dataset\n",
    "!nextclade dataset get --name sars-cov-2 --output-dir ./nextclade_dataset"
   ]
  },
  {
   "cell_type": "code",
   "execution_count": 8,
   "id": "90192470-190d-416c-8208-6d00e118f710",
   "metadata": {},
   "outputs": [],
   "source": [
    "# input your fasta file and check the lineage\n",
    "!nextclade run -D ./nextclade_dataset -O ./nextclade_results IonCode_0108_Seq.fasta\n"
   ]
  },
  {
   "cell_type": "code",
   "execution_count": 6,
   "id": "7adc5663-ee8e-413e-b13e-7ec6036d4bc3",
   "metadata": {},
   "outputs": [
    {
     "data": {
      "text/html": [
       "<div>\n",
       "<style scoped>\n",
       "    .dataframe tbody tr th:only-of-type {\n",
       "        vertical-align: middle;\n",
       "    }\n",
       "\n",
       "    .dataframe tbody tr th {\n",
       "        vertical-align: top;\n",
       "    }\n",
       "\n",
       "    .dataframe thead th {\n",
       "        text-align: right;\n",
       "    }\n",
       "</style>\n",
       "<table border=\"1\" class=\"dataframe\">\n",
       "  <thead>\n",
       "    <tr style=\"text-align: right;\">\n",
       "      <th></th>\n",
       "      <th>index</th>\n",
       "      <th>seqName</th>\n",
       "      <th>clade</th>\n",
       "      <th>clade_display</th>\n",
       "      <th>clade_who</th>\n",
       "      <th>clade_nextstrain</th>\n",
       "      <th>partiallyAliased</th>\n",
       "      <th>Nextclade_pango</th>\n",
       "      <th>qc.overallScore</th>\n",
       "      <th>qc.overallStatus</th>\n",
       "      <th>...</th>\n",
       "      <th>qc.frameShifts.status</th>\n",
       "      <th>qc.stopCodons.stopCodons</th>\n",
       "      <th>qc.stopCodons.totalStopCodons</th>\n",
       "      <th>qc.stopCodons.score</th>\n",
       "      <th>qc.stopCodons.status</th>\n",
       "      <th>totalPcrPrimerChanges</th>\n",
       "      <th>pcrPrimerChanges</th>\n",
       "      <th>failedCdses</th>\n",
       "      <th>warnings</th>\n",
       "      <th>errors</th>\n",
       "    </tr>\n",
       "  </thead>\n",
       "  <tbody>\n",
       "    <tr>\n",
       "      <th>0</th>\n",
       "      <td>0</td>\n",
       "      <td>Consensus_consensus_threshold_0.5_quality_20</td>\n",
       "      <td>20A</td>\n",
       "      <td>20A</td>\n",
       "      <td>NaN</td>\n",
       "      <td>20A</td>\n",
       "      <td>B.1.462</td>\n",
       "      <td>B.1.462</td>\n",
       "      <td>181.920868</td>\n",
       "      <td>bad</td>\n",
       "      <td>...</td>\n",
       "      <td>mediocre</td>\n",
       "      <td>NaN</td>\n",
       "      <td>0</td>\n",
       "      <td>0</td>\n",
       "      <td>good</td>\n",
       "      <td>0</td>\n",
       "      <td>NaN</td>\n",
       "      <td>NaN</td>\n",
       "      <td>NaN</td>\n",
       "      <td>NaN</td>\n",
       "    </tr>\n",
       "  </tbody>\n",
       "</table>\n",
       "<p>1 rows × 102 columns</p>\n",
       "</div>"
      ],
      "text/plain": [
       "   index                                       seqName clade clade_display  \\\n",
       "0      0  Consensus_consensus_threshold_0.5_quality_20   20A           20A   \n",
       "\n",
       "   clade_who clade_nextstrain partiallyAliased Nextclade_pango  \\\n",
       "0        NaN              20A          B.1.462         B.1.462   \n",
       "\n",
       "   qc.overallScore qc.overallStatus  ...  qc.frameShifts.status  \\\n",
       "0       181.920868              bad  ...               mediocre   \n",
       "\n",
       "   qc.stopCodons.stopCodons  qc.stopCodons.totalStopCodons  \\\n",
       "0                       NaN                              0   \n",
       "\n",
       "   qc.stopCodons.score  qc.stopCodons.status  totalPcrPrimerChanges  \\\n",
       "0                    0                  good                      0   \n",
       "\n",
       "   pcrPrimerChanges  failedCdses  warnings  errors  \n",
       "0               NaN          NaN       NaN     NaN  \n",
       "\n",
       "[1 rows x 102 columns]"
      ]
     },
     "execution_count": 6,
     "metadata": {},
     "output_type": "execute_result"
    }
   ],
   "source": [
    "df = pd.read_csv(\"nextclade_results/nextclade.tsv\", sep=\"\\t\")\n",
    "df"
   ]
  },
  {
   "cell_type": "code",
   "execution_count": null,
   "id": "a4620b07-600e-4278-99ab-b08499148852",
   "metadata": {},
   "outputs": [],
   "source": []
  }
 ],
 "metadata": {
  "kernelspec": {
   "display_name": "Python (pomoxis_env)",
   "language": "python",
   "name": "pomoxis_env"
  },
  "language_info": {
   "codemirror_mode": {
    "name": "ipython",
    "version": 3
   },
   "file_extension": ".py",
   "mimetype": "text/x-python",
   "name": "python",
   "nbconvert_exporter": "python",
   "pygments_lexer": "ipython3",
   "version": "3.12.3"
  }
 },
 "nbformat": 4,
 "nbformat_minor": 5
}
